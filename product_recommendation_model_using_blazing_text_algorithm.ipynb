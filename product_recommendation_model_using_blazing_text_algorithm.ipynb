{
 "cells": [
  {
   "cell_type": "markdown",
   "id": "62c1ffe8-a18d-4dca-941e-4d4a31c0125a",
   "metadata": {},
   "source": [
    "## prepare product data for blazing text alogrithm"
   ]
  },
  {
   "cell_type": "code",
   "execution_count": 3,
   "id": "3055cce0-b39b-4777-9f0f-1e0bffe5ed6a",
   "metadata": {},
   "outputs": [
    {
     "data": {
      "text/html": [
       "<pre style=\"white-space:pre;overflow-x:auto;line-height:normal;font-family:Menlo,'DejaVu Sans Mono',consolas,'Courier New',monospace\"><span style=\"color: #7fbfbf; text-decoration-color: #7fbfbf\">[02/26/25 09:28:55] </span><span style=\"color: #0069ff; text-decoration-color: #0069ff; font-weight: bold\">INFO    </span> Found credentials from IAM Role:                                   <a href=\"file:///home/ec2-user/anaconda3/envs/python3/lib/python3.10/site-packages/botocore/credentials.py\" target=\"_blank\"><span style=\"color: #7f7f7f; text-decoration-color: #7f7f7f\">credentials.py</span></a><span style=\"color: #7f7f7f; text-decoration-color: #7f7f7f\">:</span><a href=\"file:///home/ec2-user/anaconda3/envs/python3/lib/python3.10/site-packages/botocore/credentials.py#1075\" target=\"_blank\"><span style=\"color: #7f7f7f; text-decoration-color: #7f7f7f\">1075</span></a>\n",
       "<span style=\"color: #7fbfbf; text-decoration-color: #7fbfbf\">                    </span>         BaseNotebookInstanceEc2InstanceRole                                <span style=\"color: #7f7f7f; text-decoration-color: #7f7f7f\">                   </span>\n",
       "</pre>\n"
      ],
      "text/plain": [
       "\u001b[2;36m[02/26/25 09:28:55]\u001b[0m\u001b[2;36m \u001b[0m\u001b[1;38;2;0;105;255mINFO    \u001b[0m Found credentials from IAM Role:                                   \u001b]8;id=282979;file:///home/ec2-user/anaconda3/envs/python3/lib/python3.10/site-packages/botocore/credentials.py\u001b\\\u001b[2mcredentials.py\u001b[0m\u001b]8;;\u001b\\\u001b[2m:\u001b[0m\u001b]8;id=238407;file:///home/ec2-user/anaconda3/envs/python3/lib/python3.10/site-packages/botocore/credentials.py#1075\u001b\\\u001b[2m1075\u001b[0m\u001b]8;;\u001b\\\n",
       "\u001b[2;36m                    \u001b[0m         BaseNotebookInstanceEc2InstanceRole                                \u001b[2m                   \u001b[0m\n"
      ]
     },
     "metadata": {},
     "output_type": "display_data"
    },
    {
     "name": "stdout",
     "output_type": "stream",
     "text": [
      "file uploaded to s3://sagemaker-ml-product-recommendation-02/training/blazingtext_supervised_training_v2.txt\n"
     ]
    }
   ],
   "source": [
    "import pandas as pd\n",
    "import boto3\n",
    "import csv\n",
    "\n",
    "# load s3 datsset\n",
    "s3_bucket = 'sagemaker-ml-product-recommendation-02'\n",
    "product_file_key = 'product_data.csv'\n",
    "s3_client = boto3.client('s3')\n",
    "\n",
    "local_file = 'product_data.csv'\n",
    "s3_client.download_file(s3_bucket, product_file_key, local_file)\n",
    "product_data = pd.read_csv(local_file)\n",
    "\n",
    "\n",
    "# normalize category column for better label matching\n",
    "product_data[\"Category\"] = product_data[\"Category\"].str.lower().str.strip().str.replace(\" \", \"_\")\n",
    "\n",
    "\n",
    "# prepare text data for BlazingText model training.\n",
    "def prepare_data(row):\n",
    "    label = f\"__label__{row['Category']}_{row['Product Name'].strip().replace(' ', '_')}\"\n",
    "    text_parts = [str(row[col]).strip() for col in ['Product Name', 'Description', 'Color', 'Size'] if pd.notna(row[col])]\n",
    "    text = \" \".join(text_parts)\n",
    "    return f\"{label} {text}\"\n",
    "\n",
    "\n",
    "product_data['blazingtext'] = product_data.apply(prepare_data, axis=1)\n",
    "\n",
    "training_file = 'blazingtext_supervised_training_v2.txt'\n",
    "product_data['blazingtext'].to_csv(\n",
    "    training_file,\n",
    "    index=False,\n",
    "    header=False,\n",
    "    sep=' ',\n",
    "    quoting=csv.QUOTE_NONE,\n",
    "    escapechar=\" \"\n",
    ")\n",
    "\n",
    "# upload to s3\n",
    "s3_key = \"training/blazingtext_supervised_training_v2.txt\"\n",
    "s3_client.upload_file(training_file, s3_bucket, s3_key)\n",
    "\n",
    "print(f\"file uploaded to s3://{s3_bucket}/{s3_key}\")"
   ]
  },
  {
   "cell_type": "markdown",
   "id": "2bfa38b8-e3ca-4158-a4a1-4d105ac8922d",
   "metadata": {},
   "source": [
    "## train the blazing model"
   ]
  },
  {
   "cell_type": "code",
   "execution_count": 4,
   "id": "ccf23057-8661-49c8-8f3b-7d404006145a",
   "metadata": {},
   "outputs": [
    {
     "data": {
      "text/html": [
       "<pre style=\"white-space:pre;overflow-x:auto;line-height:normal;font-family:Menlo,'DejaVu Sans Mono',consolas,'Courier New',monospace\"><span style=\"color: #7fbfbf; text-decoration-color: #7fbfbf\">[02/26/25 09:29:03] </span><span style=\"color: #0069ff; text-decoration-color: #0069ff; font-weight: bold\">INFO    </span> Same images used for training and inference. Defaulting to image     <a href=\"file:///home/ec2-user/anaconda3/envs/python3/lib/python3.10/site-packages/sagemaker/image_uris.py\" target=\"_blank\"><span style=\"color: #7f7f7f; text-decoration-color: #7f7f7f\">image_uris.py</span></a><span style=\"color: #7f7f7f; text-decoration-color: #7f7f7f\">:</span><a href=\"file:///home/ec2-user/anaconda3/envs/python3/lib/python3.10/site-packages/sagemaker/image_uris.py#393\" target=\"_blank\"><span style=\"color: #7f7f7f; text-decoration-color: #7f7f7f\">393</span></a>\n",
       "<span style=\"color: #7fbfbf; text-decoration-color: #7fbfbf\">                    </span>         scope: inference.                                                    <span style=\"color: #7f7f7f; text-decoration-color: #7f7f7f\">                 </span>\n",
       "</pre>\n"
      ],
      "text/plain": [
       "\u001b[2;36m[02/26/25 09:29:03]\u001b[0m\u001b[2;36m \u001b[0m\u001b[1;38;2;0;105;255mINFO    \u001b[0m Same images used for training and inference. Defaulting to image     \u001b]8;id=792612;file:///home/ec2-user/anaconda3/envs/python3/lib/python3.10/site-packages/sagemaker/image_uris.py\u001b\\\u001b[2mimage_uris.py\u001b[0m\u001b]8;;\u001b\\\u001b[2m:\u001b[0m\u001b]8;id=665717;file:///home/ec2-user/anaconda3/envs/python3/lib/python3.10/site-packages/sagemaker/image_uris.py#393\u001b\\\u001b[2m393\u001b[0m\u001b]8;;\u001b\\\n",
       "\u001b[2;36m                    \u001b[0m         scope: inference.                                                    \u001b[2m                 \u001b[0m\n"
      ]
     },
     "metadata": {},
     "output_type": "display_data"
    },
    {
     "data": {
      "text/html": [
       "<pre style=\"white-space:pre;overflow-x:auto;line-height:normal;font-family:Menlo,'DejaVu Sans Mono',consolas,'Courier New',monospace\"><span style=\"color: #7fbfbf; text-decoration-color: #7fbfbf\">[02/26/25 09:29:04] </span><span style=\"color: #0069ff; text-decoration-color: #0069ff; font-weight: bold\">INFO    </span> Ignoring unnecessary instance type: <span style=\"color: #e100e1; text-decoration-color: #e100e1; font-style: italic\">None</span>.                            <a href=\"file:///home/ec2-user/anaconda3/envs/python3/lib/python3.10/site-packages/sagemaker/image_uris.py\" target=\"_blank\"><span style=\"color: #7f7f7f; text-decoration-color: #7f7f7f\">image_uris.py</span></a><span style=\"color: #7f7f7f; text-decoration-color: #7f7f7f\">:</span><a href=\"file:///home/ec2-user/anaconda3/envs/python3/lib/python3.10/site-packages/sagemaker/image_uris.py#530\" target=\"_blank\"><span style=\"color: #7f7f7f; text-decoration-color: #7f7f7f\">530</span></a>\n",
       "</pre>\n"
      ],
      "text/plain": [
       "\u001b[2;36m[02/26/25 09:29:04]\u001b[0m\u001b[2;36m \u001b[0m\u001b[1;38;2;0;105;255mINFO    \u001b[0m Ignoring unnecessary instance type: \u001b[3;38;2;225;0;225mNone\u001b[0m.                            \u001b]8;id=732751;file:///home/ec2-user/anaconda3/envs/python3/lib/python3.10/site-packages/sagemaker/image_uris.py\u001b\\\u001b[2mimage_uris.py\u001b[0m\u001b]8;;\u001b\\\u001b[2m:\u001b[0m\u001b]8;id=763220;file:///home/ec2-user/anaconda3/envs/python3/lib/python3.10/site-packages/sagemaker/image_uris.py#530\u001b\\\u001b[2m530\u001b[0m\u001b]8;;\u001b\\\n"
      ]
     },
     "metadata": {},
     "output_type": "display_data"
    },
    {
     "name": "stdout",
     "output_type": "stream",
     "text": [
      "Using Sagemaker BlazingText containe: 433757028032.dkr.ecr.us-west-2.amazonaws.com/blazingtext:1 (us-west-2)\n"
     ]
    },
    {
     "data": {
      "text/html": [
       "<pre style=\"white-space:pre;overflow-x:auto;line-height:normal;font-family:Menlo,'DejaVu Sans Mono',consolas,'Courier New',monospace\"><span style=\"color: #7fbfbf; text-decoration-color: #7fbfbf\">                    </span><span style=\"color: #0069ff; text-decoration-color: #0069ff; font-weight: bold\">INFO    </span> SageMaker Python SDK will collect telemetry to help us better  <a href=\"file:///home/ec2-user/anaconda3/envs/python3/lib/python3.10/site-packages/sagemaker/telemetry/telemetry_logging.py\" target=\"_blank\"><span style=\"color: #7f7f7f; text-decoration-color: #7f7f7f\">telemetry_logging.py</span></a><span style=\"color: #7f7f7f; text-decoration-color: #7f7f7f\">:</span><a href=\"file:///home/ec2-user/anaconda3/envs/python3/lib/python3.10/site-packages/sagemaker/telemetry/telemetry_logging.py#91\" target=\"_blank\"><span style=\"color: #7f7f7f; text-decoration-color: #7f7f7f\">91</span></a>\n",
       "<span style=\"color: #7fbfbf; text-decoration-color: #7fbfbf\">                    </span>         understand our user's needs, diagnose issues, and deliver      <span style=\"color: #7f7f7f; text-decoration-color: #7f7f7f\">                       </span>\n",
       "<span style=\"color: #7fbfbf; text-decoration-color: #7fbfbf\">                    </span>         additional features.                                           <span style=\"color: #7f7f7f; text-decoration-color: #7f7f7f\">                       </span>\n",
       "<span style=\"color: #7fbfbf; text-decoration-color: #7fbfbf\">                    </span>         To opt out of telemetry, please disable via TelemetryOptOut    <span style=\"color: #7f7f7f; text-decoration-color: #7f7f7f\">                       </span>\n",
       "<span style=\"color: #7fbfbf; text-decoration-color: #7fbfbf\">                    </span>         parameter in SDK defaults config. For more information, refer  <span style=\"color: #7f7f7f; text-decoration-color: #7f7f7f\">                       </span>\n",
       "<span style=\"color: #7fbfbf; text-decoration-color: #7fbfbf\">                    </span>         to                                                             <span style=\"color: #7f7f7f; text-decoration-color: #7f7f7f\">                       </span>\n",
       "<span style=\"color: #7fbfbf; text-decoration-color: #7fbfbf\">                    </span>         <span style=\"color: #0069ff; text-decoration-color: #0069ff; text-decoration: underline\">https://sagemaker.readthedocs.io/en/stable/overview.html#confi</span> <span style=\"color: #7f7f7f; text-decoration-color: #7f7f7f\">                       </span>\n",
       "<span style=\"color: #7fbfbf; text-decoration-color: #7fbfbf\">                    </span>         <span style=\"color: #0069ff; text-decoration-color: #0069ff; text-decoration: underline\">guring-and-using-defaults-with-the-sagemaker-python-sdk.</span>       <span style=\"color: #7f7f7f; text-decoration-color: #7f7f7f\">                       </span>\n",
       "</pre>\n"
      ],
      "text/plain": [
       "\u001b[2;36m                   \u001b[0m\u001b[2;36m \u001b[0m\u001b[1;38;2;0;105;255mINFO    \u001b[0m SageMaker Python SDK will collect telemetry to help us better  \u001b]8;id=587054;file:///home/ec2-user/anaconda3/envs/python3/lib/python3.10/site-packages/sagemaker/telemetry/telemetry_logging.py\u001b\\\u001b[2mtelemetry_logging.py\u001b[0m\u001b]8;;\u001b\\\u001b[2m:\u001b[0m\u001b]8;id=884616;file:///home/ec2-user/anaconda3/envs/python3/lib/python3.10/site-packages/sagemaker/telemetry/telemetry_logging.py#91\u001b\\\u001b[2m91\u001b[0m\u001b]8;;\u001b\\\n",
       "\u001b[2;36m                    \u001b[0m         understand our user's needs, diagnose issues, and deliver      \u001b[2m                       \u001b[0m\n",
       "\u001b[2;36m                    \u001b[0m         additional features.                                           \u001b[2m                       \u001b[0m\n",
       "\u001b[2;36m                    \u001b[0m         To opt out of telemetry, please disable via TelemetryOptOut    \u001b[2m                       \u001b[0m\n",
       "\u001b[2;36m                    \u001b[0m         parameter in SDK defaults config. For more information, refer  \u001b[2m                       \u001b[0m\n",
       "\u001b[2;36m                    \u001b[0m         to                                                             \u001b[2m                       \u001b[0m\n",
       "\u001b[2;36m                    \u001b[0m         \u001b[4;38;2;0;105;255mhttps://sagemaker.readthedocs.io/en/stable/overview.html#confi\u001b[0m \u001b[2m                       \u001b[0m\n",
       "\u001b[2;36m                    \u001b[0m         \u001b[4;38;2;0;105;255mguring-and-using-defaults-with-the-sagemaker-python-sdk.\u001b[0m       \u001b[2m                       \u001b[0m\n"
      ]
     },
     "metadata": {},
     "output_type": "display_data"
    },
    {
     "data": {
      "text/html": [
       "<pre style=\"white-space:pre;overflow-x:auto;line-height:normal;font-family:Menlo,'DejaVu Sans Mono',consolas,'Courier New',monospace\"><span style=\"color: #7fbfbf; text-decoration-color: #7fbfbf\">                    </span><span style=\"color: #0069ff; text-decoration-color: #0069ff; font-weight: bold\">INFO    </span> Creating training-job with name: blazingtext-<span style=\"color: #008080; text-decoration-color: #008080; font-weight: bold\">2025</span>-02-26-09-29-04-165   <a href=\"file:///home/ec2-user/anaconda3/envs/python3/lib/python3.10/site-packages/sagemaker/session.py\" target=\"_blank\"><span style=\"color: #7f7f7f; text-decoration-color: #7f7f7f\">session.py</span></a><span style=\"color: #7f7f7f; text-decoration-color: #7f7f7f\">:</span><a href=\"file:///home/ec2-user/anaconda3/envs/python3/lib/python3.10/site-packages/sagemaker/session.py#1042\" target=\"_blank\"><span style=\"color: #7f7f7f; text-decoration-color: #7f7f7f\">1042</span></a>\n",
       "</pre>\n"
      ],
      "text/plain": [
       "\u001b[2;36m                   \u001b[0m\u001b[2;36m \u001b[0m\u001b[1;38;2;0;105;255mINFO    \u001b[0m Creating training-job with name: blazingtext-\u001b[1;36m2025\u001b[0m-02-26-09-29-04-165   \u001b]8;id=69060;file:///home/ec2-user/anaconda3/envs/python3/lib/python3.10/site-packages/sagemaker/session.py\u001b\\\u001b[2msession.py\u001b[0m\u001b]8;;\u001b\\\u001b[2m:\u001b[0m\u001b]8;id=915519;file:///home/ec2-user/anaconda3/envs/python3/lib/python3.10/site-packages/sagemaker/session.py#1042\u001b\\\u001b[2m1042\u001b[0m\u001b]8;;\u001b\\\n"
      ]
     },
     "metadata": {},
     "output_type": "display_data"
    },
    {
     "name": "stdout",
     "output_type": "stream",
     "text": [
      "2025-02-26 09:29:06 Starting - Starting the training job...\n",
      "..25-02-26 09:29:39 Downloading - Downloading input data.\n",
      "..25-02-26 09:30:09 Training - Training image download completed. Training in progress..\n",
      "2025-02-26 09:30:35 Uploading - Uploading generated training model\u001b[34mArguments: train\u001b[0m\n",
      "\u001b[34m[02/26/2025 09:30:22 WARNING 139786765338432] Loggers have already been setup.\u001b[0m\n",
      "\u001b[34m[02/26/2025 09:30:22 WARNING 139786765338432] Loggers have already been setup.\u001b[0m\n",
      "\u001b[34m/opt/amazon/python3.8/lib/python3.8/subprocess.py:848: RuntimeWarning: line buffering (buffering=1) isn't supported in binary mode, the default buffer size will be used\n",
      "  self.stdout = io.open(c2pread, 'rb', bufsize)\u001b[0m\n",
      "\u001b[34m[02/26/2025 09:30:22 INFO 139786765338432] nvidia-smi took: 0.025221824645996094 secs to identify 0 gpus\u001b[0m\n",
      "\u001b[34m[02/26/2025 09:30:22 INFO 139786765338432] Running single machine CPU BlazingText training using supervised mode.\u001b[0m\n",
      "\u001b[34mNumber of CPU sockets found in instance is  1\u001b[0m\n",
      "\u001b[34m[02/26/2025 09:30:22 INFO 139786765338432] Processing /opt/ml/input/data/train/blazingtext_supervised_training_v2.txt . File size: 0.019308090209960938 MB\u001b[0m\n",
      "\u001b[34mRead 0M words\u001b[0m\n",
      "\u001b[34mNumber of words:  87\u001b[0m\n",
      "\u001b[34m##### Alpha: -0.0001  Progress: 100.15%  Million Words/sec: 0.37 #####\u001b[0m\n",
      "\u001b[34m##### Alpha: 0.0000  Progress: 100.00%  Million Words/sec: 0.37 #####\u001b[0m\n",
      "\u001b[34mTraining finished.\u001b[0m\n",
      "\u001b[34mAverage throughput in Million words/sec: 0.37\u001b[0m\n",
      "\u001b[34mTotal training time in seconds: 0.10\u001b[0m\n",
      "\u001b[34m#train_accuracy: 0.395\u001b[0m\n",
      "\u001b[34mNumber of train examples: 200\u001b[0m\n",
      "\n",
      "2025-02-26 09:31:03 Completed - Training job completed\n",
      "Training seconds: 83\n",
      "Billable seconds: 83\n"
     ]
    }
   ],
   "source": [
    "import sagemaker\n",
    "from sagemaker import get_execution_role\n",
    "from sagemaker.image_uris import retrieve\n",
    "from sagemaker.inputs import TrainingInput\n",
    "\n",
    "region_name = 'us-west-2'\n",
    "s3_train_data = f's3://{s3_bucket}/training/blazingtext_supervised_training_v2.txt'\n",
    "s3_output_location = f's3://{s3_bucket}/output'\n",
    "\n",
    "role = get_execution_role()\n",
    "\n",
    "# blazing text containee URI\n",
    "container_uri = retrieve(framework='blazingtext',\n",
    "                         region=region_name,\n",
    "                         version='latest')\n",
    "print('Using Sagemaker BlazingText containe: {} ({})'.format(container_uri, region_name))\n",
    "\n",
    "# define the estimator object\n",
    "bt_model = sagemaker.estimator.Estimator(\n",
    "    image_uri=container_uri,\n",
    "    role=role,\n",
    "    instance_count=1,\n",
    "    instance_type='ml.c4.2xlarge',\n",
    "    volume_size=5,\n",
    "    max_run=3600,\n",
    "    input_mode='File',\n",
    "    output_path=s3_output_location\n",
    ")\n",
    "\n",
    "\n",
    "# set hyperparameters\n",
    "bt_model.set_hyperparameters(\n",
    "    mode='supervised',\n",
    "    epochs=15,\n",
    "    min_count=2,\n",
    "    learning_rate=0.05,\n",
    "    word_ngrams=2,\n",
    "    vector_dim=100\n",
    ")\n",
    "\n",
    "\n",
    "# define training data\n",
    "train_data = TrainingInput(s3_train_data, content_type='text/plain')\n",
    "data_channels = {'train': train_data}\n",
    "\n",
    "\n",
    "# train the model\n",
    "bt_model.fit(inputs=data_channels, logs=True)"
   ]
  },
  {
   "cell_type": "markdown",
   "id": "ee1e2cf6-169b-4797-9e25-82f832611ceb",
   "metadata": {},
   "source": [
    "## deploy the model"
   ]
  },
  {
   "cell_type": "code",
   "execution_count": 6,
   "id": "20b23c0f-9337-44db-98c4-a08e400608ee",
   "metadata": {},
   "outputs": [
    {
     "data": {
      "text/html": [
       "<pre style=\"white-space:pre;overflow-x:auto;line-height:normal;font-family:Menlo,'DejaVu Sans Mono',consolas,'Courier New',monospace\"><span style=\"color: #7fbfbf; text-decoration-color: #7fbfbf\">[02/26/25 09:45:48] </span><span style=\"color: #0069ff; text-decoration-color: #0069ff; font-weight: bold\">INFO    </span> Creating model with name: blazingtext-<span style=\"color: #008080; text-decoration-color: #008080; font-weight: bold\">2025</span>-02-26-09-45-48-279          <a href=\"file:///home/ec2-user/anaconda3/envs/python3/lib/python3.10/site-packages/sagemaker/session.py\" target=\"_blank\"><span style=\"color: #7f7f7f; text-decoration-color: #7f7f7f\">session.py</span></a><span style=\"color: #7f7f7f; text-decoration-color: #7f7f7f\">:</span><a href=\"file:///home/ec2-user/anaconda3/envs/python3/lib/python3.10/site-packages/sagemaker/session.py#4094\" target=\"_blank\"><span style=\"color: #7f7f7f; text-decoration-color: #7f7f7f\">4094</span></a>\n",
       "</pre>\n"
      ],
      "text/plain": [
       "\u001b[2;36m[02/26/25 09:45:48]\u001b[0m\u001b[2;36m \u001b[0m\u001b[1;38;2;0;105;255mINFO    \u001b[0m Creating model with name: blazingtext-\u001b[1;36m2025\u001b[0m-02-26-09-45-48-279          \u001b]8;id=611824;file:///home/ec2-user/anaconda3/envs/python3/lib/python3.10/site-packages/sagemaker/session.py\u001b\\\u001b[2msession.py\u001b[0m\u001b]8;;\u001b\\\u001b[2m:\u001b[0m\u001b]8;id=396602;file:///home/ec2-user/anaconda3/envs/python3/lib/python3.10/site-packages/sagemaker/session.py#4094\u001b\\\u001b[2m4094\u001b[0m\u001b]8;;\u001b\\\n"
      ]
     },
     "metadata": {},
     "output_type": "display_data"
    },
    {
     "data": {
      "text/html": [
       "<pre style=\"white-space:pre;overflow-x:auto;line-height:normal;font-family:Menlo,'DejaVu Sans Mono',consolas,'Courier New',monospace\"><span style=\"color: #7fbfbf; text-decoration-color: #7fbfbf\">                    </span><span style=\"color: #0069ff; text-decoration-color: #0069ff; font-weight: bold\">INFO    </span> Creating endpoint-config with name blazingtext-<span style=\"color: #008080; text-decoration-color: #008080; font-weight: bold\">2025</span>-02-26-09-45-48-279 <a href=\"file:///home/ec2-user/anaconda3/envs/python3/lib/python3.10/site-packages/sagemaker/session.py\" target=\"_blank\"><span style=\"color: #7f7f7f; text-decoration-color: #7f7f7f\">session.py</span></a><span style=\"color: #7f7f7f; text-decoration-color: #7f7f7f\">:</span><a href=\"file:///home/ec2-user/anaconda3/envs/python3/lib/python3.10/site-packages/sagemaker/session.py#5889\" target=\"_blank\"><span style=\"color: #7f7f7f; text-decoration-color: #7f7f7f\">5889</span></a>\n",
       "</pre>\n"
      ],
      "text/plain": [
       "\u001b[2;36m                   \u001b[0m\u001b[2;36m \u001b[0m\u001b[1;38;2;0;105;255mINFO    \u001b[0m Creating endpoint-config with name blazingtext-\u001b[1;36m2025\u001b[0m-02-26-09-45-48-279 \u001b]8;id=64919;file:///home/ec2-user/anaconda3/envs/python3/lib/python3.10/site-packages/sagemaker/session.py\u001b\\\u001b[2msession.py\u001b[0m\u001b]8;;\u001b\\\u001b[2m:\u001b[0m\u001b]8;id=893506;file:///home/ec2-user/anaconda3/envs/python3/lib/python3.10/site-packages/sagemaker/session.py#5889\u001b\\\u001b[2m5889\u001b[0m\u001b]8;;\u001b\\\n"
      ]
     },
     "metadata": {},
     "output_type": "display_data"
    },
    {
     "data": {
      "text/html": [
       "<pre style=\"white-space:pre;overflow-x:auto;line-height:normal;font-family:Menlo,'DejaVu Sans Mono',consolas,'Courier New',monospace\"><span style=\"color: #7fbfbf; text-decoration-color: #7fbfbf\">[02/26/25 09:45:49] </span><span style=\"color: #0069ff; text-decoration-color: #0069ff; font-weight: bold\">INFO    </span> Creating endpoint with name blazingtext-<span style=\"color: #008080; text-decoration-color: #008080; font-weight: bold\">2025</span>-02-26-09-45-48-279        <a href=\"file:///home/ec2-user/anaconda3/envs/python3/lib/python3.10/site-packages/sagemaker/session.py\" target=\"_blank\"><span style=\"color: #7f7f7f; text-decoration-color: #7f7f7f\">session.py</span></a><span style=\"color: #7f7f7f; text-decoration-color: #7f7f7f\">:</span><a href=\"file:///home/ec2-user/anaconda3/envs/python3/lib/python3.10/site-packages/sagemaker/session.py#4711\" target=\"_blank\"><span style=\"color: #7f7f7f; text-decoration-color: #7f7f7f\">4711</span></a>\n",
       "</pre>\n"
      ],
      "text/plain": [
       "\u001b[2;36m[02/26/25 09:45:49]\u001b[0m\u001b[2;36m \u001b[0m\u001b[1;38;2;0;105;255mINFO    \u001b[0m Creating endpoint with name blazingtext-\u001b[1;36m2025\u001b[0m-02-26-09-45-48-279        \u001b]8;id=795349;file:///home/ec2-user/anaconda3/envs/python3/lib/python3.10/site-packages/sagemaker/session.py\u001b\\\u001b[2msession.py\u001b[0m\u001b]8;;\u001b\\\u001b[2m:\u001b[0m\u001b]8;id=629176;file:///home/ec2-user/anaconda3/envs/python3/lib/python3.10/site-packages/sagemaker/session.py#4711\u001b\\\u001b[2m4711\u001b[0m\u001b]8;;\u001b\\\n"
      ]
     },
     "metadata": {},
     "output_type": "display_data"
    },
    {
     "name": "stdout",
     "output_type": "stream",
     "text": [
      "-----!"
     ]
    }
   ],
   "source": [
    "predictor = bt_model.deploy(\n",
    "    initial_instance_count=1,\n",
    "    instance_type='ml.m4.xlarge'\n",
    ")"
   ]
  },
  {
   "cell_type": "code",
   "execution_count": 15,
   "id": "8de4be85-df7f-4d73-aa1d-82ba041a1c69",
   "metadata": {},
   "outputs": [],
   "source": [
    "\n",
    "import json\n",
    "\n",
    "def get_recommendations(user_input):\n",
    "    input_text = {\"instances\": [user_input]}\n",
    "    response = predictor.predict(json.dumps(input_text), initial_args={\"ContentType\": \"application/json\"})\n",
    "    predictions = json.loads(response)\n",
    "\n",
    "    # extract labels which is predicted product categories\n",
    "    recommended_labels = [pred[\"label\"] for pred in predictions]\n",
    "    \n",
    "    # match labels with actual product names\n",
    "    recommended_products = product_data[product_data[\"Category\"].isin(recommended_labels)][\"Product Name\"].tolist()\n",
    "    return recommended_products[:5]\n"
   ]
  },
  {
   "cell_type": "code",
   "execution_count": 16,
   "id": "e45a63ce-3325-4b62-b72d-d4df4ea25d47",
   "metadata": {},
   "outputs": [
    {
     "name": "stdout",
     "output_type": "stream",
     "text": [
      "Query:I need kid shoes for running in red color\n",
      "Recommended Products:  []\n"
     ]
    }
   ],
   "source": [
    "query = \"I need kid shoes for running in red color\"\n",
    "print(f\"Query:{query}\\nRecommended Products: \", get_recommendations(query))"
   ]
  },
  {
   "cell_type": "code",
   "execution_count": 18,
   "id": "20199ef2-d972-4e37-898f-78477c74c208",
   "metadata": {},
   "outputs": [
    {
     "name": "stdout",
     "output_type": "stream",
     "text": [
      "Test Query Output: [{'label': ['__label__Women'], 'prob': [0.2501992881298065]}]\n"
     ]
    }
   ],
   "source": [
    "test_query = {\"instances\": [\"kids shoes\"]}\n",
    "response = predictor.predict(json.dumps(test_query), initial_args={\"ContentType\": \"application/json\"})\n",
    "print(\"Test Query Output:\", json.loads(response))\n"
   ]
  },
  {
   "cell_type": "code",
   "execution_count": 5,
   "id": "812004f3-9b98-4b0c-9514-ca5aa67ad29a",
   "metadata": {},
   "outputs": [],
   "source": [
    "# use\n",
    "import json\n",
    "\n",
    "def get_recommendations(user_input, predictor, threshold=0.02):\n",
    "    input_text = {\"instances\": [user_input]}\n",
    "    response = predictor.predict(json.dumps(input_text), initial_args={\"ContentType\": \"application/json\"})\n",
    "    predictions = json.loads(response)\n",
    "\n",
    "    print(\"Raw Model Predictions:\", predictions)  # Debugging Output\n",
    "\n",
    "    recommended_labels = []\n",
    "    for pred in predictions:\n",
    "        for label, prob in zip(pred[\"label\"], pred[\"prob\"]):\n",
    "            if prob >= threshold:\n",
    "                clean_label = label.replace(\"__label__\", \"\").lower().strip().replace(\"_\", \" \")\n",
    "                recommended_labels.append(clean_label)\n",
    "\n",
    "    # Normalize dataset category names for matching\n",
    "    product_data[\"Category\"] = product_data[\"Category\"].str.lower().str.strip().str.replace(\"_\", \" \")\n",
    "\n",
    "    # Filter products based on predicted categories\n",
    "    recommended_products = product_data[product_data[\"Category\"].isin(recommended_labels)][\"Product Name\"].tolist()\n",
    "\n",
    "    return recommended_products[:5]  # Return top 5 recommendations\n"
   ]
  },
  {
   "cell_type": "code",
   "execution_count": 1,
   "id": "d234fbc6-99eb-4c09-9536-902db298180e",
   "metadata": {},
   "outputs": [
    {
     "ename": "NameError",
     "evalue": "name 'get_recommendations' is not defined",
     "output_type": "error",
     "traceback": [
      "\u001b[0;31m---------------------------------------------------------------------------\u001b[0m",
      "\u001b[0;31mNameError\u001b[0m                                 Traceback (most recent call last)",
      "Cell \u001b[0;32mIn[1], line 4\u001b[0m\n\u001b[1;32m      1\u001b[0m \u001b[38;5;66;03m# use\u001b[39;00m\n\u001b[1;32m      3\u001b[0m query \u001b[38;5;241m=\u001b[39m \u001b[38;5;124m\"\u001b[39m\u001b[38;5;124mI need a stylish leather jacket for winter\u001b[39m\u001b[38;5;124m\"\u001b[39m\n\u001b[0;32m----> 4\u001b[0m recommended_products \u001b[38;5;241m=\u001b[39m \u001b[43mget_recommendations\u001b[49m(query, predictor, threshold\u001b[38;5;241m=\u001b[39m\u001b[38;5;241m0.02\u001b[39m)\n\u001b[1;32m      6\u001b[0m \u001b[38;5;28mprint\u001b[39m(\u001b[38;5;124mf\u001b[39m\u001b[38;5;124m\"\u001b[39m\u001b[38;5;130;01m\\n\u001b[39;00m\u001b[38;5;124mQuery: \u001b[39m\u001b[38;5;132;01m{\u001b[39;00mquery\u001b[38;5;132;01m}\u001b[39;00m\u001b[38;5;124m\"\u001b[39m)\n\u001b[1;32m      7\u001b[0m \u001b[38;5;28mprint\u001b[39m(\u001b[38;5;124m\"\u001b[39m\u001b[38;5;124mRecommended Products:\u001b[39m\u001b[38;5;124m\"\u001b[39m, recommended_products)\n",
      "\u001b[0;31mNameError\u001b[0m: name 'get_recommendations' is not defined"
     ]
    }
   ],
   "source": [
    "# use\n",
    "\n",
    "query = \"I need a stylish leather jacket for winter\"\n",
    "recommended_products = get_recommendations(query, predictor, threshold=0.02)\n",
    "\n",
    "print(f\"\\nQuery: {query}\")\n",
    "print(\"Recommended Products:\", recommended_products)\n"
   ]
  },
  {
   "cell_type": "code",
   "execution_count": 69,
   "id": "0443e8e6-f3c7-4439-b621-fce82be96adc",
   "metadata": {},
   "outputs": [
    {
     "name": "stdout",
     "output_type": "stream",
     "text": [
      "Raw Model Predictions:  [{'label': ['__label__men_Leather_Jacket'], 'prob': [0.02501424215734005]}]\n",
      "\n",
      "Extracted Labels: ['men leather jacket']\n",
      "\n",
      "Query: I need a stylish leather jacket for winter\n",
      "Recommended Products: ['leather jacket']\n"
     ]
    }
   ],
   "source": [
    "import json\n",
    "\n",
    "def get_recommendations(user_input, predictor, threshold=0.02):\n",
    "    input_text = {\"instances\": [user_input]}\n",
    "    response = predictor.predict(json.dumps(input_text), initial_args={\"ContentType\": \"application/json\"})\n",
    "    predictions = json.loads(response)\n",
    "\n",
    "    print(\"Raw Model Predictions: \", predictions)\n",
    "    print()\n",
    "\n",
    "    recommended_labels = []\n",
    "    for pred in predictions:\n",
    "        for label, prob in zip(pred[\"label\"], pred[\"prob\"]):\n",
    "            if prob >= threshold:  \n",
    "                clean_label = label.replace(\"__label__\", \"\").replace(\"_\", \" \").strip().lower()  \n",
    "                recommended_labels.append(clean_label)\n",
    "\n",
    "    print(\"Extracted Labels:\", recommended_labels)  \n",
    "\n",
    "    # Prepare dataset for comparison\n",
    "    product_data[\"Category_cleaned\"] = product_data[\"Category\"].str.strip().str.lower()\n",
    "    product_data[\"Product_cleaned\"] = product_data[\"Product Name\"].str.strip().str.lower()\n",
    "\n",
    "    # print(\"\\nAvailable Categories in Dataset:\", product_data[\"Category_cleaned\"].unique())\n",
    "    # print(\"\\nAvailable Product Names in Dataset:\", product_data[\"Product_cleaned\"].unique())\n",
    "\n",
    "    # Try to extract category and product type from predicted label\n",
    "    matched_products = []\n",
    "    \n",
    "    for label in recommended_labels:\n",
    "        label_parts = label.split()  # Split \"men leather jacket\" → [\"men\", \"leather\", \"jacket\"]\n",
    "        \n",
    "        for category in product_data[\"Category_cleaned\"].unique():\n",
    "            if category in label_parts:  # Check if \"men\" exists in [\"men\", \"leather\", \"jacket\"]\n",
    "                for product in product_data[\"Product_cleaned\"].unique():\n",
    "                    if any(part in product for part in label_parts):  # Match \"leather\" or \"jacket\"\n",
    "                        matched_products.append(product)\n",
    "    \n",
    "    matched_products = list(set(matched_products))  # Remove duplicates\n",
    "\n",
    "    if not matched_products:\n",
    "        print(\"No matching products found in dataset!\")\n",
    "\n",
    "    return matched_products[:5]\n",
    "\n",
    "\n",
    "query = \"I need a stylish leather jacket for winter\"\n",
    "recommended_products = get_recommendations(query, predictor, threshold=0.02)\n",
    "\n",
    "print(f\"\\nQuery: {query}\")\n",
    "print(\"Recommended Products:\", recommended_products)\n"
   ]
  },
  {
   "cell_type": "code",
   "execution_count": 70,
   "id": "cad13d40-87e7-4807-80c4-b1607f2d4779",
   "metadata": {},
   "outputs": [
    {
     "name": "stdout",
     "output_type": "stream",
     "text": [
      "Raw Model Predictions:  [{'label': ['__label__women_T-Shirt'], 'prob': [0.025014212355017662]}]\n",
      "\n",
      "Extracted Labels: ['women t-shirt']\n",
      "\n",
      "Query: I need a basic cotton t-shirt\n",
      "Recommended Products: ['t-shirt']\n"
     ]
    }
   ],
   "source": [
    "query = \"I need a basic cotton t-shirt\"\n",
    "recommended_products = get_recommendations(query, predictor, threshold=0.02)\n",
    "\n",
    "print(f\"\\nQuery: {query}\")\n",
    "print(\"Recommended Products:\", recommended_products)"
   ]
  },
  {
   "cell_type": "code",
   "execution_count": 72,
   "id": "54e0419d-5edd-4bf5-8890-4651070b8629",
   "metadata": {},
   "outputs": [
    {
     "name": "stdout",
     "output_type": "stream",
     "text": [
      "Raw Model Predictions:  [{'label': ['__label__kids_Sneakers'], 'prob': [0.025015996769070625]}]\n",
      "\n",
      "Extracted Labels: ['kids sneakers']\n",
      "\n",
      "Query: I need a sneakers for my kid\n",
      "Recommended Products: ['sneakers']\n"
     ]
    }
   ],
   "source": [
    "query = \"I need a sneakers for my kid\"\n",
    "recommended_products = get_recommendations(query, predictor, threshold=0.02)\n",
    "\n",
    "print(f\"\\nQuery: {query}\")\n",
    "print(\"Recommended Products:\", recommended_products)"
   ]
  },
  {
   "cell_type": "code",
   "execution_count": null,
   "id": "aba60e54-1ec8-4b91-bc83-a8d59f131800",
   "metadata": {},
   "outputs": [],
   "source": []
  }
 ],
 "metadata": {
  "kernelspec": {
   "display_name": "conda_python3",
   "language": "python",
   "name": "conda_python3"
  },
  "language_info": {
   "codemirror_mode": {
    "name": "ipython",
    "version": 3
   },
   "file_extension": ".py",
   "mimetype": "text/x-python",
   "name": "python",
   "nbconvert_exporter": "python",
   "pygments_lexer": "ipython3",
   "version": "3.10.16"
  }
 },
 "nbformat": 4,
 "nbformat_minor": 5
}
